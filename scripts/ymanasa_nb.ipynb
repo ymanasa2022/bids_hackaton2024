{
 "cells": [
  {
   "cell_type": "markdown",
   "metadata": {},
   "source": [
    "For the prostate cancer subtyping project:\n",
    "\n",
    "The goal is to see if the phenotypic groups match groups identified from transcriptomic data.\n",
    "\n",
    "Download the prostate cancer samples data from TCGA using the TCGAbiolinks or TCGA2STAT packages in R or the python packages gdc-client or pytcga.  \n",
    "\n",
    "Download the meta data for the prostate cancer samples and chack if they have grade/subtype/PSA level (look up commonly used thresholds) information and create meta data that contains the group information for these samples."
   ]
  },
  {
   "cell_type": "markdown",
   "metadata": {},
   "source": [
    "The result will be either read count or gene/transcript expression level (FPKM, TPM …)  for each prostate cancer sample and associated group meta data.\n",
    "\n",
    "If you have read counts – normalize them to compute a metric for the gene/transcript expression level.\n",
    "\n",
    "Apply a clustering technique (k-means, hierarchical clustering, or any other type of unsupervised learning) to identify subtypes.\n",
    "\n",
    "Used the group labels to compute the accuracy for your clustering.\n",
    "\n",
    "You can also use any type of evaluation metric for the clustering."
   ]
  },
  {
   "cell_type": "markdown",
   "metadata": {},
   "source": [
    "\n",
    "Alternative analysis:    \n",
    "\n",
    "Goal: Build a model that we can use on transcriptomic data from a new prostate cancer patient to identify the subtype.\n",
    "\n",
    " \n",
    "\n",
    "If there is enough data for all groups, you could split the data in two (training, testing), do supervised machine learning on the training data to build a model to distinguish between the subgroups that the meta data provided.\n",
    "\n",
    "The testing data will be used to evaluate the model and metrics like accuracy can be computed.\n",
    "\n",
    "\n",
    "The scikit-learn python package can be used to apply the machine learning approach on the data.\n",
    "\n",
    "https://scikit-learn.org/stable/unsupervised_learning.html\n",
    "\n",
    "https://scikit-learn.org/stable/supervised_learning.html\n",
    "\n",
    "In R there are packages like: mclust, cluster, caret, e1071, randomForest, and many others."
   ]
  }
 ],
 "metadata": {
  "language_info": {
   "name": "python"
  },
  "orig_nbformat": 4
 },
 "nbformat": 4,
 "nbformat_minor": 2
}
